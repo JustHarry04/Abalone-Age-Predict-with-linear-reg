{
 "cells": [
  {
   "cell_type": "code",
   "execution_count": 1,
   "metadata": {},
   "outputs": [],
   "source": [
    "import pandas as pd\n",
    "import numpy as np\n",
    "import matplotlib.pyplot as plt\n",
    "import seaborn as sns\n",
    "from sklearn.linear_model import LinearRegression, HuberRegressor, Lasso, RANSACRegressor, TheilSenRegressor, Ridge, ElasticNet\n",
    "from sklearn.metrics import root_mean_squared_error, mean_absolute_error, r2_score\n",
    "from sklearn.model_selection import train_test_split, cross_val_score, RandomizedSearchCV\n",
    "from sklearn.preprocessing import LabelEncoder, OneHotEncoder, PolynomialFeatures, StandardScaler, RobustScaler\n",
    "from sklearn.ensemble import VotingRegressor, StackingRegressor\n",
    "from sklearn.pipeline import Pipeline\n",
    "import warnings\n",
    "warnings.filterwarnings('ignore')\n"
   ]
  },
  {
   "cell_type": "markdown",
   "metadata": {},
   "source": [
    "## Reading Train/Test Values"
   ]
  },
  {
   "cell_type": "code",
   "execution_count": 2,
   "metadata": {},
   "outputs": [
    {
     "data": {
      "text/html": [
       "<div>\n",
       "<style scoped>\n",
       "    .dataframe tbody tr th:only-of-type {\n",
       "        vertical-align: middle;\n",
       "    }\n",
       "\n",
       "    .dataframe tbody tr th {\n",
       "        vertical-align: top;\n",
       "    }\n",
       "\n",
       "    .dataframe thead th {\n",
       "        text-align: right;\n",
       "    }\n",
       "</style>\n",
       "<table border=\"1\" class=\"dataframe\">\n",
       "  <thead>\n",
       "    <tr style=\"text-align: right;\">\n",
       "      <th></th>\n",
       "      <th>id</th>\n",
       "      <th>Sex</th>\n",
       "      <th>Length</th>\n",
       "      <th>Diameter</th>\n",
       "      <th>Height</th>\n",
       "      <th>Weight</th>\n",
       "      <th>Shucked Weight</th>\n",
       "      <th>Viscera Weight</th>\n",
       "      <th>Shell Weight</th>\n",
       "      <th>Age</th>\n",
       "    </tr>\n",
       "  </thead>\n",
       "  <tbody>\n",
       "    <tr>\n",
       "      <th>0</th>\n",
       "      <td>0</td>\n",
       "      <td>I</td>\n",
       "      <td>0.5500</td>\n",
       "      <td>0.4125</td>\n",
       "      <td>0.1625</td>\n",
       "      <td>1.715145</td>\n",
       "      <td>0.609514</td>\n",
       "      <td>0.396893</td>\n",
       "      <td>0.566990</td>\n",
       "      <td>4.0</td>\n",
       "    </tr>\n",
       "    <tr>\n",
       "      <th>1</th>\n",
       "      <td>1</td>\n",
       "      <td>F</td>\n",
       "      <td>1.5125</td>\n",
       "      <td>1.2125</td>\n",
       "      <td>0.4000</td>\n",
       "      <td>31.312023</td>\n",
       "      <td>13.395139</td>\n",
       "      <td>6.265239</td>\n",
       "      <td>8.930093</td>\n",
       "      <td>10.0</td>\n",
       "    </tr>\n",
       "    <tr>\n",
       "      <th>2</th>\n",
       "      <td>2</td>\n",
       "      <td>F</td>\n",
       "      <td>1.5125</td>\n",
       "      <td>1.1750</td>\n",
       "      <td>0.4125</td>\n",
       "      <td>31.552993</td>\n",
       "      <td>14.670866</td>\n",
       "      <td>6.279414</td>\n",
       "      <td>9.922325</td>\n",
       "      <td>11.0</td>\n",
       "    </tr>\n",
       "    <tr>\n",
       "      <th>3</th>\n",
       "      <td>3</td>\n",
       "      <td>I</td>\n",
       "      <td>0.8000</td>\n",
       "      <td>0.6000</td>\n",
       "      <td>0.2000</td>\n",
       "      <td>4.620969</td>\n",
       "      <td>3.019222</td>\n",
       "      <td>0.978058</td>\n",
       "      <td>1.417475</td>\n",
       "      <td>7.0</td>\n",
       "    </tr>\n",
       "    <tr>\n",
       "      <th>4</th>\n",
       "      <td>4</td>\n",
       "      <td>I</td>\n",
       "      <td>1.3875</td>\n",
       "      <td>1.0875</td>\n",
       "      <td>0.3625</td>\n",
       "      <td>24.323871</td>\n",
       "      <td>11.651644</td>\n",
       "      <td>5.712424</td>\n",
       "      <td>5.386405</td>\n",
       "      <td>8.0</td>\n",
       "    </tr>\n",
       "    <tr>\n",
       "      <th>...</th>\n",
       "      <td>...</td>\n",
       "      <td>...</td>\n",
       "      <td>...</td>\n",
       "      <td>...</td>\n",
       "      <td>...</td>\n",
       "      <td>...</td>\n",
       "      <td>...</td>\n",
       "      <td>...</td>\n",
       "      <td>...</td>\n",
       "      <td>...</td>\n",
       "    </tr>\n",
       "    <tr>\n",
       "      <th>14995</th>\n",
       "      <td>14995</td>\n",
       "      <td>M</td>\n",
       "      <td>1.3750</td>\n",
       "      <td>1.0625</td>\n",
       "      <td>0.3500</td>\n",
       "      <td>24.734939</td>\n",
       "      <td>11.169703</td>\n",
       "      <td>6.208540</td>\n",
       "      <td>6.095142</td>\n",
       "      <td>9.0</td>\n",
       "    </tr>\n",
       "    <tr>\n",
       "      <th>14996</th>\n",
       "      <td>14996</td>\n",
       "      <td>I</td>\n",
       "      <td>1.0750</td>\n",
       "      <td>0.8125</td>\n",
       "      <td>0.2500</td>\n",
       "      <td>12.998246</td>\n",
       "      <td>5.896696</td>\n",
       "      <td>2.338834</td>\n",
       "      <td>2.919999</td>\n",
       "      <td>7.0</td>\n",
       "    </tr>\n",
       "    <tr>\n",
       "      <th>14997</th>\n",
       "      <td>14997</td>\n",
       "      <td>I</td>\n",
       "      <td>1.3750</td>\n",
       "      <td>1.1125</td>\n",
       "      <td>0.3625</td>\n",
       "      <td>23.544260</td>\n",
       "      <td>8.674947</td>\n",
       "      <td>4.791066</td>\n",
       "      <td>7.796112</td>\n",
       "      <td>15.0</td>\n",
       "    </tr>\n",
       "    <tr>\n",
       "      <th>14998</th>\n",
       "      <td>14998</td>\n",
       "      <td>M</td>\n",
       "      <td>1.4375</td>\n",
       "      <td>1.1125</td>\n",
       "      <td>0.3500</td>\n",
       "      <td>28.448723</td>\n",
       "      <td>14.571643</td>\n",
       "      <td>6.279414</td>\n",
       "      <td>6.803880</td>\n",
       "      <td>10.0</td>\n",
       "    </tr>\n",
       "    <tr>\n",
       "      <th>14999</th>\n",
       "      <td>14999</td>\n",
       "      <td>I</td>\n",
       "      <td>1.1375</td>\n",
       "      <td>0.8875</td>\n",
       "      <td>0.3000</td>\n",
       "      <td>13.437663</td>\n",
       "      <td>6.095142</td>\n",
       "      <td>3.033396</td>\n",
       "      <td>3.543687</td>\n",
       "      <td>7.0</td>\n",
       "    </tr>\n",
       "  </tbody>\n",
       "</table>\n",
       "<p>15000 rows × 10 columns</p>\n",
       "</div>"
      ],
      "text/plain": [
       "          id Sex  Length  Diameter  Height     Weight  Shucked Weight  \\\n",
       "0          0   I  0.5500    0.4125  0.1625   1.715145        0.609514   \n",
       "1          1   F  1.5125    1.2125  0.4000  31.312023       13.395139   \n",
       "2          2   F  1.5125    1.1750  0.4125  31.552993       14.670866   \n",
       "3          3   I  0.8000    0.6000  0.2000   4.620969        3.019222   \n",
       "4          4   I  1.3875    1.0875  0.3625  24.323871       11.651644   \n",
       "...      ...  ..     ...       ...     ...        ...             ...   \n",
       "14995  14995   M  1.3750    1.0625  0.3500  24.734939       11.169703   \n",
       "14996  14996   I  1.0750    0.8125  0.2500  12.998246        5.896696   \n",
       "14997  14997   I  1.3750    1.1125  0.3625  23.544260        8.674947   \n",
       "14998  14998   M  1.4375    1.1125  0.3500  28.448723       14.571643   \n",
       "14999  14999   I  1.1375    0.8875  0.3000  13.437663        6.095142   \n",
       "\n",
       "       Viscera Weight  Shell Weight   Age  \n",
       "0            0.396893      0.566990   4.0  \n",
       "1            6.265239      8.930093  10.0  \n",
       "2            6.279414      9.922325  11.0  \n",
       "3            0.978058      1.417475   7.0  \n",
       "4            5.712424      5.386405   8.0  \n",
       "...               ...           ...   ...  \n",
       "14995        6.208540      6.095142   9.0  \n",
       "14996        2.338834      2.919999   7.0  \n",
       "14997        4.791066      7.796112  15.0  \n",
       "14998        6.279414      6.803880  10.0  \n",
       "14999        3.033396      3.543687   7.0  \n",
       "\n",
       "[15000 rows x 10 columns]"
      ]
     },
     "execution_count": 2,
     "metadata": {},
     "output_type": "execute_result"
    }
   ],
   "source": [
    "df1 = pd.read_csv(\"train.csv\")\n",
    "test = pd.read_csv(\"test.csv\")\n",
    "subm = pd.read_csv(\"sample_submission.csv\")\n",
    "df1"
   ]
  },
  {
   "cell_type": "markdown",
   "metadata": {},
   "source": [
    "## Dropping the id column as its unneccessary "
   ]
  },
  {
   "cell_type": "code",
   "execution_count": 3,
   "metadata": {},
   "outputs": [
    {
     "data": {
      "text/html": [
       "<div>\n",
       "<style scoped>\n",
       "    .dataframe tbody tr th:only-of-type {\n",
       "        vertical-align: middle;\n",
       "    }\n",
       "\n",
       "    .dataframe tbody tr th {\n",
       "        vertical-align: top;\n",
       "    }\n",
       "\n",
       "    .dataframe thead th {\n",
       "        text-align: right;\n",
       "    }\n",
       "</style>\n",
       "<table border=\"1\" class=\"dataframe\">\n",
       "  <thead>\n",
       "    <tr style=\"text-align: right;\">\n",
       "      <th></th>\n",
       "      <th>Sex</th>\n",
       "      <th>Length</th>\n",
       "      <th>Diameter</th>\n",
       "      <th>Height</th>\n",
       "      <th>Weight</th>\n",
       "      <th>Shucked Weight</th>\n",
       "      <th>Viscera Weight</th>\n",
       "      <th>Shell Weight</th>\n",
       "      <th>Age</th>\n",
       "    </tr>\n",
       "  </thead>\n",
       "  <tbody>\n",
       "    <tr>\n",
       "      <th>0</th>\n",
       "      <td>I</td>\n",
       "      <td>0.5500</td>\n",
       "      <td>0.4125</td>\n",
       "      <td>0.1625</td>\n",
       "      <td>1.715145</td>\n",
       "      <td>0.609514</td>\n",
       "      <td>0.396893</td>\n",
       "      <td>0.566990</td>\n",
       "      <td>4.0</td>\n",
       "    </tr>\n",
       "    <tr>\n",
       "      <th>1</th>\n",
       "      <td>F</td>\n",
       "      <td>1.5125</td>\n",
       "      <td>1.2125</td>\n",
       "      <td>0.4000</td>\n",
       "      <td>31.312023</td>\n",
       "      <td>13.395139</td>\n",
       "      <td>6.265239</td>\n",
       "      <td>8.930093</td>\n",
       "      <td>10.0</td>\n",
       "    </tr>\n",
       "    <tr>\n",
       "      <th>2</th>\n",
       "      <td>F</td>\n",
       "      <td>1.5125</td>\n",
       "      <td>1.1750</td>\n",
       "      <td>0.4125</td>\n",
       "      <td>31.552993</td>\n",
       "      <td>14.670866</td>\n",
       "      <td>6.279414</td>\n",
       "      <td>9.922325</td>\n",
       "      <td>11.0</td>\n",
       "    </tr>\n",
       "    <tr>\n",
       "      <th>3</th>\n",
       "      <td>I</td>\n",
       "      <td>0.8000</td>\n",
       "      <td>0.6000</td>\n",
       "      <td>0.2000</td>\n",
       "      <td>4.620969</td>\n",
       "      <td>3.019222</td>\n",
       "      <td>0.978058</td>\n",
       "      <td>1.417475</td>\n",
       "      <td>7.0</td>\n",
       "    </tr>\n",
       "    <tr>\n",
       "      <th>4</th>\n",
       "      <td>I</td>\n",
       "      <td>1.3875</td>\n",
       "      <td>1.0875</td>\n",
       "      <td>0.3625</td>\n",
       "      <td>24.323871</td>\n",
       "      <td>11.651644</td>\n",
       "      <td>5.712424</td>\n",
       "      <td>5.386405</td>\n",
       "      <td>8.0</td>\n",
       "    </tr>\n",
       "    <tr>\n",
       "      <th>...</th>\n",
       "      <td>...</td>\n",
       "      <td>...</td>\n",
       "      <td>...</td>\n",
       "      <td>...</td>\n",
       "      <td>...</td>\n",
       "      <td>...</td>\n",
       "      <td>...</td>\n",
       "      <td>...</td>\n",
       "      <td>...</td>\n",
       "    </tr>\n",
       "    <tr>\n",
       "      <th>14995</th>\n",
       "      <td>M</td>\n",
       "      <td>1.3750</td>\n",
       "      <td>1.0625</td>\n",
       "      <td>0.3500</td>\n",
       "      <td>24.734939</td>\n",
       "      <td>11.169703</td>\n",
       "      <td>6.208540</td>\n",
       "      <td>6.095142</td>\n",
       "      <td>9.0</td>\n",
       "    </tr>\n",
       "    <tr>\n",
       "      <th>14996</th>\n",
       "      <td>I</td>\n",
       "      <td>1.0750</td>\n",
       "      <td>0.8125</td>\n",
       "      <td>0.2500</td>\n",
       "      <td>12.998246</td>\n",
       "      <td>5.896696</td>\n",
       "      <td>2.338834</td>\n",
       "      <td>2.919999</td>\n",
       "      <td>7.0</td>\n",
       "    </tr>\n",
       "    <tr>\n",
       "      <th>14997</th>\n",
       "      <td>I</td>\n",
       "      <td>1.3750</td>\n",
       "      <td>1.1125</td>\n",
       "      <td>0.3625</td>\n",
       "      <td>23.544260</td>\n",
       "      <td>8.674947</td>\n",
       "      <td>4.791066</td>\n",
       "      <td>7.796112</td>\n",
       "      <td>15.0</td>\n",
       "    </tr>\n",
       "    <tr>\n",
       "      <th>14998</th>\n",
       "      <td>M</td>\n",
       "      <td>1.4375</td>\n",
       "      <td>1.1125</td>\n",
       "      <td>0.3500</td>\n",
       "      <td>28.448723</td>\n",
       "      <td>14.571643</td>\n",
       "      <td>6.279414</td>\n",
       "      <td>6.803880</td>\n",
       "      <td>10.0</td>\n",
       "    </tr>\n",
       "    <tr>\n",
       "      <th>14999</th>\n",
       "      <td>I</td>\n",
       "      <td>1.1375</td>\n",
       "      <td>0.8875</td>\n",
       "      <td>0.3000</td>\n",
       "      <td>13.437663</td>\n",
       "      <td>6.095142</td>\n",
       "      <td>3.033396</td>\n",
       "      <td>3.543687</td>\n",
       "      <td>7.0</td>\n",
       "    </tr>\n",
       "  </tbody>\n",
       "</table>\n",
       "<p>15000 rows × 9 columns</p>\n",
       "</div>"
      ],
      "text/plain": [
       "      Sex  Length  Diameter  Height     Weight  Shucked Weight  \\\n",
       "0       I  0.5500    0.4125  0.1625   1.715145        0.609514   \n",
       "1       F  1.5125    1.2125  0.4000  31.312023       13.395139   \n",
       "2       F  1.5125    1.1750  0.4125  31.552993       14.670866   \n",
       "3       I  0.8000    0.6000  0.2000   4.620969        3.019222   \n",
       "4       I  1.3875    1.0875  0.3625  24.323871       11.651644   \n",
       "...    ..     ...       ...     ...        ...             ...   \n",
       "14995   M  1.3750    1.0625  0.3500  24.734939       11.169703   \n",
       "14996   I  1.0750    0.8125  0.2500  12.998246        5.896696   \n",
       "14997   I  1.3750    1.1125  0.3625  23.544260        8.674947   \n",
       "14998   M  1.4375    1.1125  0.3500  28.448723       14.571643   \n",
       "14999   I  1.1375    0.8875  0.3000  13.437663        6.095142   \n",
       "\n",
       "       Viscera Weight  Shell Weight   Age  \n",
       "0            0.396893      0.566990   4.0  \n",
       "1            6.265239      8.930093  10.0  \n",
       "2            6.279414      9.922325  11.0  \n",
       "3            0.978058      1.417475   7.0  \n",
       "4            5.712424      5.386405   8.0  \n",
       "...               ...           ...   ...  \n",
       "14995        6.208540      6.095142   9.0  \n",
       "14996        2.338834      2.919999   7.0  \n",
       "14997        4.791066      7.796112  15.0  \n",
       "14998        6.279414      6.803880  10.0  \n",
       "14999        3.033396      3.543687   7.0  \n",
       "\n",
       "[15000 rows x 9 columns]"
      ]
     },
     "execution_count": 3,
     "metadata": {},
     "output_type": "execute_result"
    }
   ],
   "source": [
    "df = df1.drop(columns=\"id\")\n",
    "df"
   ]
  },
  {
   "cell_type": "markdown",
   "metadata": {},
   "source": [
    "## Encoding the column named \"SEX\" to numerical from objective"
   ]
  },
  {
   "cell_type": "code",
   "execution_count": 4,
   "metadata": {},
   "outputs": [],
   "source": [
    "df=pd.get_dummies(df, columns=['Sex'], dtype=int)\n",
    "test = pd.get_dummies(test, columns=['Sex'], dtype=int)\n"
   ]
  },
  {
   "cell_type": "code",
   "execution_count": 5,
   "metadata": {},
   "outputs": [],
   "source": [
    "df= df.drop(columns=\"Sex_Diameter\" )"
   ]
  },
  {
   "cell_type": "markdown",
   "metadata": {},
   "source": [
    "## Determining Dependent and Independent Columns//Features"
   ]
  },
  {
   "cell_type": "code",
   "execution_count": 6,
   "metadata": {},
   "outputs": [],
   "source": [
    "X = df.drop(columns=[\"Age\"], axis=1)\n",
    "y= df[\"Age\"]"
   ]
  },
  {
   "cell_type": "markdown",
   "metadata": {},
   "source": [
    "## Calculating Metrics using Linear Regression"
   ]
  },
  {
   "cell_type": "code",
   "execution_count": 7,
   "metadata": {},
   "outputs": [
    {
     "name": "stdout",
     "output_type": "stream",
     "text": [
      "RMSE: 2.0337\n",
      "MAE: 1.4051\n"
     ]
    }
   ],
   "source": [
    "\n",
    "regression = LinearRegression()\n",
    "regression.fit(X, y)\n",
    "\n",
    "y_pred = regression.predict(X)\n",
    "\n",
    "rmse = root_mean_squared_error(y, y_pred)\n",
    "mae = mean_absolute_error(y, y_pred)\n",
    "r2 = r2_score(y, y_pred)\n",
    "\n",
    "print(f\"RMSE: {rmse:.4f}\")\n",
    "print(f\"MAE: {mae:.4f}\")\n",
    "\n"
   ]
  },
  {
   "cell_type": "markdown",
   "metadata": {},
   "source": [
    "## Calculating Metrics using Huber Regression"
   ]
  },
  {
   "cell_type": "code",
   "execution_count": 8,
   "metadata": {},
   "outputs": [
    {
     "name": "stdout",
     "output_type": "stream",
     "text": [
      "RMSE: 2.0716\n",
      "MAE: 1.3701\n"
     ]
    }
   ],
   "source": [
    "\n",
    "regression = HuberRegressor()\n",
    "regression.fit(X, y)\n",
    "\n",
    "y_pred = regression.predict(X)\n",
    "\n",
    "rmse = root_mean_squared_error(y, y_pred)\n",
    "mae = mean_absolute_error(y, y_pred)\n",
    "r2 = r2_score(y, y_pred)\n",
    "\n",
    "print(f\"RMSE: {rmse:.4f}\")\n",
    "print(f\"MAE: {mae:.4f}\")\n"
   ]
  },
  {
   "cell_type": "markdown",
   "metadata": {},
   "source": [
    "## Calculating Metrics using Lasso Regression"
   ]
  },
  {
   "cell_type": "code",
   "execution_count": 9,
   "metadata": {},
   "outputs": [
    {
     "name": "stdout",
     "output_type": "stream",
     "text": [
      "RMSE: 2.3985\n",
      "MAE: 1.6779\n"
     ]
    }
   ],
   "source": [
    "regression = Lasso()\n",
    "regression.fit(X, y)\n",
    "\n",
    "y_pred = regression.predict(X)\n",
    "\n",
    "rmse = root_mean_squared_error(y, y_pred)\n",
    "mae = mean_absolute_error(y, y_pred)\n",
    "r2 = r2_score(y, y_pred)\n",
    "\n",
    "print(f\"RMSE: {rmse:.4f}\")\n",
    "print(f\"MAE: {mae:.4f}\")"
   ]
  },
  {
   "cell_type": "markdown",
   "metadata": {},
   "source": [
    "## Calculating Metrics using ElasticNet Regression"
   ]
  },
  {
   "cell_type": "code",
   "execution_count": 10,
   "metadata": {},
   "outputs": [
    {
     "name": "stdout",
     "output_type": "stream",
     "text": [
      "RMSE: 2.2508\n",
      "MAE: 1.5640\n"
     ]
    }
   ],
   "source": [
    "regression = ElasticNet()\n",
    "regression.fit(X, y)\n",
    "\n",
    "y_pred = regression.predict(X)\n",
    "\n",
    "rmse = root_mean_squared_error(y, y_pred)\n",
    "mae = mean_absolute_error(y, y_pred)\n",
    "r2 = r2_score(y, y_pred)\n",
    "\n",
    "print(f\"RMSE: {rmse:.4f}\")\n",
    "print(f\"MAE: {mae:.4f}\")"
   ]
  },
  {
   "cell_type": "markdown",
   "metadata": {},
   "source": [
    "## Calculating Metrics using Ridge Regression"
   ]
  },
  {
   "cell_type": "code",
   "execution_count": 11,
   "metadata": {},
   "outputs": [
    {
     "name": "stdout",
     "output_type": "stream",
     "text": [
      "RMSE: 2.0342\n",
      "MAE: 1.4050\n"
     ]
    }
   ],
   "source": [
    "regression = Ridge()\n",
    "regression.fit(X, y)\n",
    "\n",
    "y_pred = regression.predict(X)\n",
    "\n",
    "rmse = root_mean_squared_error(y, y_pred)\n",
    "mae = mean_absolute_error(y, y_pred)\n",
    "r2 = r2_score(y, y_pred)\n",
    "\n",
    "print(f\"RMSE: {rmse:.4f}\")\n",
    "print(f\"MAE: {mae:.4f}\")"
   ]
  },
  {
   "cell_type": "markdown",
   "metadata": {},
   "source": [
    "## Calculating Metrics using Ransac Regression"
   ]
  },
  {
   "cell_type": "code",
   "execution_count": 12,
   "metadata": {},
   "outputs": [
    {
     "name": "stdout",
     "output_type": "stream",
     "text": [
      "RMSE: 2.1485\n",
      "MAE: 1.4142\n"
     ]
    }
   ],
   "source": [
    "regression = RANSACRegressor()\n",
    "regression.fit(X, y)\n",
    "\n",
    "y_pred = regression.predict(X)\n",
    "\n",
    "rmse = root_mean_squared_error(y, y_pred)\n",
    "mae = mean_absolute_error(y, y_pred)\n",
    "r2 = r2_score(y, y_pred)\n",
    "\n",
    "print(f\"RMSE: {rmse:.4f}\")\n",
    "print(f\"MAE: {mae:.4f}\")"
   ]
  },
  {
   "cell_type": "markdown",
   "metadata": {},
   "source": [
    "## Calculating Metrics using TheilSen Regression"
   ]
  },
  {
   "cell_type": "code",
   "execution_count": 13,
   "metadata": {},
   "outputs": [
    {
     "name": "stdout",
     "output_type": "stream",
     "text": [
      "RMSE: 2.0507\n",
      "MAE: 1.3781\n"
     ]
    }
   ],
   "source": [
    "regression = TheilSenRegressor()\n",
    "regression.fit(X, y)\n",
    "\n",
    "y_pred = regression.predict(X)\n",
    "\n",
    "rmse = root_mean_squared_error(y, y_pred)\n",
    "mae = mean_absolute_error(y, y_pred)\n",
    "r2 = r2_score(y, y_pred)\n",
    "\n",
    "print(f\"RMSE: {rmse:.4f}\")\n",
    "print(f\"MAE: {mae:.4f}\")"
   ]
  },
  {
   "cell_type": "markdown",
   "metadata": {},
   "source": [
    "## Polynomial Features with Degree 2"
   ]
  },
  {
   "cell_type": "code",
   "execution_count": 14,
   "metadata": {},
   "outputs": [
    {
     "name": "stdout",
     "output_type": "stream",
     "text": [
      "RMSE: 1.9667\n",
      "MAE: 1.3546\n",
      "R^2: 0.6238\n"
     ]
    }
   ],
   "source": [
    "poly = PolynomialFeatures(degree=2, include_bias=False)\n",
    "X_poly = poly.fit_transform(X)\n",
    "\n",
    "regression = LinearRegression()\n",
    "regression.fit(X_poly, y)\n",
    "\n",
    "y_pred = regression.predict(X_poly)\n",
    "\n",
    "rmse = root_mean_squared_error(y, y_pred)\n",
    "mae = mean_absolute_error(y, y_pred)\n",
    "r2 = r2_score(y, y_pred)\n",
    "\n",
    "print(f\"RMSE: {rmse:.4f}\")\n",
    "print(f\"MAE: {mae:.4f}\")\n",
    "print(f\"R^2: {r2:.4f}\")\n"
   ]
  },
  {
   "cell_type": "markdown",
   "metadata": {},
   "source": [
    "## Dropping ID column from Test.csv\n"
   ]
  },
  {
   "cell_type": "code",
   "execution_count": 15,
   "metadata": {},
   "outputs": [],
   "source": [
    "X_new = test.drop(columns=\"id\", axis=1)"
   ]
  },
  {
   "cell_type": "markdown",
   "metadata": {},
   "source": [
    "## Creating Pipeline for Each regression including PolynomialRegression"
   ]
  },
  {
   "cell_type": "code",
   "execution_count": 16,
   "metadata": {},
   "outputs": [],
   "source": [
    "linear_pipeline = Pipeline([\n",
    "    ('poly', PolynomialFeatures(degree=2, include_bias=True)),\n",
    "    ('model', LinearRegression())  \n",
    "])\n",
    "\n",
    "ridge_pipeline = Pipeline([\n",
    "    ('poly', PolynomialFeatures(degree=3, include_bias=True)),\n",
    "    ('model', Ridge(alpha=10.0))\n",
    "])\n",
    "\n",
    "lasso_pipeline = Pipeline([\n",
    "    ('poly', PolynomialFeatures(degree=3, include_bias=True)),\n",
    "    ('model', Lasso(alpha=0.0001))\n",
    "])\n",
    "\n",
    "\n",
    "huber_pipeline = Pipeline([\n",
    "                          ('model', HuberRegressor())])\n",
    "\n",
    "ransac_pipeline = Pipeline([('poly', PolynomialFeatures(degree=2, include_bias=True)),\n",
    "                           ('model', RANSACRegressor())])\n",
    "\n",
    "theilsen_pipeline = Pipeline([('poly', PolynomialFeatures(degree=2, include_bias=True)),\n",
    "                           ('model', TheilSenRegressor(fit_intercept=True))])\n"
   ]
  },
  {
   "cell_type": "markdown",
   "metadata": {},
   "source": [
    "## Checking the best Alpha degree for Ridge and Lasso Using gridSearch"
   ]
  },
  {
   "cell_type": "code",
   "execution_count": 17,
   "metadata": {},
   "outputs": [
    {
     "name": "stdout",
     "output_type": "stream",
     "text": [
      "Best Ridge alpha: 1.7575106248547894\n",
      "Best MAE for Ridge: 1.3512\n",
      "Best Lasso alpha: 0.0001\n",
      "Best MAE for Lasso: 1.3652\n"
     ]
    }
   ],
   "source": [
    "\n",
    "param_dist = {\n",
    "    'poly__degree': [2, 3],  \n",
    "    'model__alpha': np.logspace(-4, 4, 50)  \n",
    "}\n",
    "\n",
    "ridge_random = RandomizedSearchCV(ridge_pipeline, param_dist, n_iter=20, scoring='neg_mean_absolute_error', cv=5, random_state=42)\n",
    "ridge_random.fit(X, y)\n",
    "\n",
    "print(f\"Best Ridge alpha: {ridge_random.best_params_['model__alpha']}\")\n",
    "print(f\"Best MAE for Ridge: {-ridge_random.best_score_:.4f}\")\n",
    "\n",
    "lasso_random = RandomizedSearchCV(lasso_pipeline, param_dist, n_iter=20, scoring='neg_mean_absolute_error', cv=5, random_state=42)\n",
    "lasso_random.fit(X, y)\n",
    "\n",
    "print(f\"Best Lasso alpha: {lasso_random.best_params_['model__alpha']}\")\n",
    "print(f\"Best MAE for Lasso: {-lasso_random.best_score_:.4f}\")"
   ]
  },
  {
   "cell_type": "markdown",
   "metadata": {},
   "source": [
    "## Checking the best Alpha degree for Ridge and Lasso Using RandomizedSearchCV"
   ]
  },
  {
   "cell_type": "code",
   "execution_count": 18,
   "metadata": {},
   "outputs": [
    {
     "name": "stdout",
     "output_type": "stream",
     "text": [
      "Best Ridge alpha: 1.7575106248547894\n",
      "Best MAE for Ridge: 1.3512\n",
      "Best Lasso alpha: 0.0001\n",
      "Best MAE for Lasso: 1.3652\n"
     ]
    }
   ],
   "source": [
    "param_dist = {\n",
    "    'poly__degree': [2, 3],  \n",
    "    'model__alpha': np.logspace(-4, 4, 50)  \n",
    "}\n",
    "\n",
    "ridge_random = RandomizedSearchCV(ridge_pipeline, param_dist, n_iter=20, scoring='neg_mean_absolute_error', cv=5, random_state=42)\n",
    "ridge_random.fit(X, y)\n",
    "\n",
    "print(f\"Best Ridge alpha: {ridge_random.best_params_['model__alpha']}\")\n",
    "print(f\"Best MAE for Ridge: {-ridge_random.best_score_:.4f}\")\n",
    "\n",
    "lasso_random = RandomizedSearchCV(lasso_pipeline, param_dist, n_iter=20, scoring='neg_mean_absolute_error', cv=5, random_state=42)\n",
    "lasso_random.fit(X, y)\n",
    "\n",
    "print(f\"Best Lasso alpha: {lasso_random.best_params_['model__alpha']}\")\n",
    "print(f\"Best MAE for Lasso: {-lasso_random.best_score_:.4f}\")"
   ]
  },
  {
   "cell_type": "markdown",
   "metadata": {},
   "source": [
    "## Using Voting Regression "
   ]
  },
  {
   "cell_type": "code",
   "execution_count": 19,
   "metadata": {},
   "outputs": [
    {
     "name": "stdout",
     "output_type": "stream",
     "text": [
      "RMSE: 1.9617\n",
      "MAE: 1.3336\n"
     ]
    }
   ],
   "source": [
    "model_lr = LinearRegression()\n",
    "model_huber = HuberRegressor()\n",
    "model_ridge = Ridge()\n",
    "model_TheilSen = TheilSenRegressor()\n",
    "model_ransac = RANSACRegressor()\n",
    "\n",
    "voting_regressor = VotingRegressor(estimators=[\n",
    "    ('linear', linear_pipeline),\n",
    "    ('ridge', ridge_pipeline),\n",
    "    ('lasso', lasso_pipeline),\n",
    "    ('huber', huber_pipeline),\n",
    "    ('theilsen', theilsen_pipeline)\n",
    "])\n",
    "\n",
    "voting_regressor.fit(X, y)\n",
    "blend_predictions = voting_regressor.predict(X)\n",
    "\n",
    "rmse = root_mean_squared_error(y, blend_predictions)\n",
    "mae = mean_absolute_error(y, blend_predictions)\n",
    "\n",
    "print(f\"RMSE: {rmse:.4f}\")\n",
    "print(f\"MAE: {mae:.4f}\")"
   ]
  },
  {
   "cell_type": "markdown",
   "metadata": {},
   "source": [
    "## Stacking Regression with Huber Reg in the final Est as it has the least MAE"
   ]
  },
  {
   "cell_type": "code",
   "execution_count": 20,
   "metadata": {},
   "outputs": [
    {
     "name": "stdout",
     "output_type": "stream",
     "text": [
      "The best RMSE: 1.9991\n",
      "The best MAE: 1.2783\n"
     ]
    }
   ],
   "source": [
    "stacking_regressor = StackingRegressor(\n",
    "    estimators=[\n",
    "    ('linear', linear_pipeline),\n",
    "    ('ridge', ridge_pipeline),\n",
    "    ('lasso', lasso_pipeline),\n",
    "    ('huber', huber_pipeline),\n",
    "    ('theilsen', theilsen_pipeline)\n",
    "    ],\n",
    "    final_estimator=HuberRegressor(),\n",
    "    cv=5,\n",
    "    passthrough=True\n",
    ")\n",
    "stacking_regressor.fit(X, y)\n",
    "stack_predictions = stacking_regressor.predict(X)\n",
    "stack_predictions=np.round(stack_predictions)\n",
    "rmse = root_mean_squared_error(y, stack_predictions)\n",
    "mae = mean_absolute_error(y, stack_predictions)\n",
    "\n",
    "print(f\"The best RMSE: {rmse:.4f}\")\n",
    "print(f\"The best MAE: {mae:.4f}\")"
   ]
  },
  {
   "cell_type": "code",
   "execution_count": null,
   "metadata": {},
   "outputs": [],
   "source": []
  }
 ],
 "metadata": {
  "kernelspec": {
   "display_name": "Python 3",
   "language": "python",
   "name": "python3"
  },
  "language_info": {
   "codemirror_mode": {
    "name": "ipython",
    "version": 3
   },
   "file_extension": ".py",
   "mimetype": "text/x-python",
   "name": "python",
   "nbconvert_exporter": "python",
   "pygments_lexer": "ipython3",
   "version": "3.12.0"
  }
 },
 "nbformat": 4,
 "nbformat_minor": 2
}
